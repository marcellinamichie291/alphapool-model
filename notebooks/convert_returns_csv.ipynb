{
 "cells": [
  {
   "cell_type": "code",
   "execution_count": 7,
   "id": "44d9f554-e8ee-4bc1-b3b4-a52423b07d32",
   "metadata": {},
   "outputs": [
    {
     "data": {
      "text/html": [
       "<div>\n",
       "<style scoped>\n",
       "    .dataframe tbody tr th:only-of-type {\n",
       "        vertical-align: middle;\n",
       "    }\n",
       "\n",
       "    .dataframe tbody tr th {\n",
       "        vertical-align: top;\n",
       "    }\n",
       "\n",
       "    .dataframe thead th {\n",
       "        text-align: right;\n",
       "    }\n",
       "</style>\n",
       "<table border=\"1\" class=\"dataframe\">\n",
       "  <thead>\n",
       "    <tr style=\"text-align: right;\">\n",
       "      <th></th>\n",
       "      <th></th>\n",
       "      <th>ret</th>\n",
       "    </tr>\n",
       "    <tr>\n",
       "      <th>timestamp</th>\n",
       "      <th>model_id</th>\n",
       "      <th></th>\n",
       "    </tr>\n",
       "  </thead>\n",
       "  <tbody>\n",
       "    <tr>\n",
       "      <th rowspan=\"5\" valign=\"top\">2022-09-02 01:05:00+00:00</th>\n",
       "      <th>example-model-portfolio</th>\n",
       "      <td>-0.000031</td>\n",
       "    </tr>\n",
       "    <tr>\n",
       "      <th>example-model-rank</th>\n",
       "      <td>-0.000054</td>\n",
       "    </tr>\n",
       "    <tr>\n",
       "      <th>example-model-rank2</th>\n",
       "      <td>0.000000</td>\n",
       "    </tr>\n",
       "    <tr>\n",
       "      <th>example-model-rank3</th>\n",
       "      <td>0.000000</td>\n",
       "    </tr>\n",
       "    <tr>\n",
       "      <th>m-20220904-nn</th>\n",
       "      <td>0.000000</td>\n",
       "    </tr>\n",
       "    <tr>\n",
       "      <th>...</th>\n",
       "      <th>...</th>\n",
       "      <td>...</td>\n",
       "    </tr>\n",
       "    <tr>\n",
       "      <th rowspan=\"5\" valign=\"top\">2022-09-30 09:55:00+00:00</th>\n",
       "      <th>m-20220921-remove-feat</th>\n",
       "      <td>0.001140</td>\n",
       "    </tr>\n",
       "    <tr>\n",
       "      <th>m-20220928-btc-beta</th>\n",
       "      <td>0.001150</td>\n",
       "    </tr>\n",
       "    <tr>\n",
       "      <th>m-20220929-btc-beta-one</th>\n",
       "      <td>0.000847</td>\n",
       "    </tr>\n",
       "    <tr>\n",
       "      <th>pf-universal</th>\n",
       "      <td>0.000765</td>\n",
       "    </tr>\n",
       "    <tr>\n",
       "      <th>pf-universal2</th>\n",
       "      <td>0.001950</td>\n",
       "    </tr>\n",
       "  </tbody>\n",
       "</table>\n",
       "<p>233642 rows × 1 columns</p>\n",
       "</div>"
      ],
      "text/plain": [
       "                                                        ret\n",
       "timestamp                 model_id                         \n",
       "2022-09-02 01:05:00+00:00 example-model-portfolio -0.000031\n",
       "                          example-model-rank      -0.000054\n",
       "                          example-model-rank2      0.000000\n",
       "                          example-model-rank3      0.000000\n",
       "                          m-20220904-nn            0.000000\n",
       "...                                                     ...\n",
       "2022-09-30 09:55:00+00:00 m-20220921-remove-feat   0.001140\n",
       "                          m-20220928-btc-beta      0.001150\n",
       "                          m-20220929-btc-beta-one  0.000847\n",
       "                          pf-universal             0.000765\n",
       "                          pf-universal2            0.001950\n",
       "\n",
       "[233642 rows x 1 columns]"
      ]
     },
     "metadata": {},
     "output_type": "display_data"
    },
    {
     "name": "stdout",
     "output_type": "stream",
     "text": [
      "ret    float64\n",
      "dtype: object\n"
     ]
    }
   ],
   "source": [
    "import pandas as pd\n",
    "\n",
    "df = pd.read_csv(\"/home/jovyan/data/Returns raw-data-2022-09-30 10_48_19.csv\")\n",
    "df = df.rename(columns={\n",
    "    'time': 'timestamp',\n",
    "})\n",
    "df['timestamp'] = pd.to_datetime(df['timestamp'], utc=True)\n",
    "df = df.set_index(['timestamp', 'model_id'])\n",
    "display(df)\n",
    "print(df.dtypes)\n",
    "df.to_parquet('/home/jovyan/data/20220930_returns.parquet')"
   ]
  },
  {
   "cell_type": "code",
   "execution_count": null,
   "id": "f284545b-a806-4841-a9b9-2dd521c30282",
   "metadata": {},
   "outputs": [],
   "source": []
  }
 ],
 "metadata": {
  "kernelspec": {
   "display_name": "Python 3 (ipykernel)",
   "language": "python",
   "name": "python3"
  },
  "language_info": {
   "codemirror_mode": {
    "name": "ipython",
    "version": 3
   },
   "file_extension": ".py",
   "mimetype": "text/x-python",
   "name": "python",
   "nbconvert_exporter": "python",
   "pygments_lexer": "ipython3",
   "version": "3.10.6"
  }
 },
 "nbformat": 4,
 "nbformat_minor": 5
}
